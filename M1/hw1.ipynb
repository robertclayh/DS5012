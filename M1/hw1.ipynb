{
 "cells": [
  {
   "cell_type": "raw",
   "id": "c17c1555",
   "metadata": {
    "title": "",
    "date": "",
    "vscode": {
     "languageId": "raw"
    }
   },
   "source": [
    "\\setcounter{secnumdepth}{0}\n",
    "\\title{}\n",
    "\\date{}\n",
    "\\author{}\n",
    "\\renewcommand{\\maketitle}{}"
   ]
  },
  {
   "cell_type": "markdown",
   "id": "ea258125",
   "metadata": {},
   "source": [
    "# DS5012: Foundations of Computer Science\n",
    "## Module 1 Homework: Analysis of Algorithms\n",
    "\n",
    "### Robert Clay Harris: jbm2rt\n",
    "### May 31, 2025"
   ]
  },
  {
   "cell_type": "markdown",
   "id": "88d83cfb",
   "metadata": {},
   "source": [
    "## Q1\n",
    "\n",
    "(a) $O(n^2)$ \\\n",
    "(b) $O(n\\log n)$ \\\n",
    "(c) $O(2^n)$"
   ]
  },
  {
   "cell_type": "markdown",
   "id": "a7384532",
   "metadata": {},
   "source": [
    "## Q2\n",
    "\n",
    "False. Big-O describes a worst-case upper bound on growth, ignoring constants and lower-order terms, so it does not give an exact rate."
   ]
  },
  {
   "cell_type": "markdown",
   "id": "d89d2e3c",
   "metadata": {},
   "source": [
    "## Q3"
   ]
  },
  {
   "cell_type": "markdown",
   "id": "d19abe2f",
   "metadata": {},
   "source": [
    "```python\n",
    "for i in range(n):          # Repeat n times\n",
    "    for j in range(i):      #   Repeat i times each outer iteration (n)\n",
    "        print(i, j)         #       O(1)\n",
    "\n",
    "# O(n) * O(n) * O(1)\n",
    "# O(n^2)\n",
    "```"
   ]
  },
  {
   "cell_type": "markdown",
   "id": "1f9fd876",
   "metadata": {},
   "source": [
    "$O(n^2)$"
   ]
  },
  {
   "cell_type": "markdown",
   "id": "6742a04d",
   "metadata": {},
   "source": [
    "## Q4"
   ]
  },
  {
   "cell_type": "markdown",
   "id": "90d082c5",
   "metadata": {},
   "source": [
    "Solution for $T(n) = 2\\,T\\bigl(\\frac{n}{2}\\bigr) + n$\n",
    "\n",
    "Identify Components:  \n",
    "    \n",
    "Match to the Master Theorem form $T(n) = a\\,T\\bigl(\\frac{n}{b}\\bigr) + f(n)$.  \n",
    "\n",
    "Here:\n",
    "    $$\n",
    "      a = 2,\\quad b = 2,\\quad f(n) = n.\n",
    "    $$\n",
    "\n",
    "Compute the Critical Exponent:\n",
    "    $$\n",
    "      \\log_{b}(a) \\;=\\; \\log_{2}(2) \\;=\\; 1,\n",
    "    $$  \n",
    "    so the critical function is\n",
    "    $$\n",
    "      n^{\\,\\log_{b}(a)} \\;=\\; n^{1} \\;=\\; n.\n",
    "    $$\n",
    "\n",
    "Compare $f(n)$ to the Critical Function:\n",
    "\n",
    "We have\n",
    "    $$\n",
    "      f(n) = n,\n",
    "      \\quad\n",
    "      n^{\\,\\log_{b}(a)} = n.\n",
    "    $$\n",
    "    Therefore $f(n)$ and $n^{\\log_{b}(a)}$ grow at the same rate.\n",
    "\n",
    "Check Master Theorem Case:\n",
    "\n",
    "Since $f(n) = \\Theta\\bigl(n^{\\log_{b}(a)}\\bigr)$, we are in Case 2 of the Master Theorem.\n",
    "\n",
    "Case 2 implies:\n",
    "    $$\n",
    "      T(n) \\;=\\; \\Theta\\bigl(n^{\\log_{b}(a)} \\,\\log n \\bigr) \n",
    "      \\;=\\; \\Theta\\bigl(n \\,\\log n\\bigr).\n",
    "    $$ \n",
    "    So the complexity is\n",
    "    $$\n",
    "      \\boxed{T(n) = \\Theta(n\\,\\log n).}\n",
    "    $$"
   ]
  },
  {
   "cell_type": "markdown",
   "id": "bb052df3",
   "metadata": {},
   "source": [
    "## Q5"
   ]
  },
  {
   "cell_type": "code",
   "execution_count": 2,
   "id": "8be80e40",
   "metadata": {},
   "outputs": [
    {
     "name": "stdout",
     "output_type": "stream",
     "text": [
      "The smallest n₀ is 997\n"
     ]
    }
   ],
   "source": [
    "import math\n",
    "\n",
    "max_fail = 0\n",
    "limit = 1000000\n",
    "\n",
    "for n in range(1, limit):\n",
    "    if 100 * n * math.log2(n) >= n**2:\n",
    "        max_fail = n\n",
    "\n",
    "n0 = max_fail + 1\n",
    "print(\"The smallest n₀ is\", n0)"
   ]
  },
  {
   "cell_type": "markdown",
   "id": "e065f802",
   "metadata": {},
   "source": [
    "## Q6\n",
    "\n",
    "**Time‐complexity analysis**\n",
    "\n",
    "1. **Transpose X**  \n",
    "   - Loops: `for i in range(n)` and `for j in range(d)`  \n",
    "   - Cost: $O(n·d)$\n",
    "\n",
    "2. **Compute XT_X = XT * X**  \n",
    "   - Loops: `for i in range(d)`, `for j in range(d)`, `for k in range(n)`  \n",
    "   - Cost: $O(d·d·n) = O(n·d^2)$\n",
    "\n",
    "3. **Matrix inversion (d×d)**  \n",
    "   - Cost: $O(d^3)$\n",
    "\n",
    "4. **Compute XT_y**  \n",
    "   - Loops: `for i in range(d)`, `for j in range(n)`  \n",
    "   - Cost: $O(d·n)$\n",
    "\n",
    "5. **Final multiplication inv_XT_X * XT_y**  \n",
    "   - Loops: `for i in range(d)`, `for j in range(d)`  \n",
    "   - Cost: $O(d^2)$\n",
    "\n",
    "**Combine all terms:**  \n",
    "$O(n·d) + O(n·d^2) + O(d^3) + O(d·n) + O(d^2)$ = $O(n·d^2 + d^3)$\n",
    "\n",
    "Therefore the overall time complexity is $O(n·d^2 + d^3)$.\n",
    "\n",
    "If $n\\gg d$, the $O(n·d^2)$ term dominates.  \n",
    "If $d \\gg n$, the $O(d^3)$ term dominates.  \n"
   ]
  },
  {
   "cell_type": "markdown",
   "id": "be6cf11d",
   "metadata": {},
   "source": [
    "## Q7\n",
    "\n",
    "**Recurrence setup**  \n",
    "\n",
    "Each call does three recursive calls on lists of size $\\approx n/3$, and the slicing plus the final loop together cost $O(n)$. So:\n",
    "$$\n",
    "T(n) \\;=\\; 3\\,T\\bigl(n/3\\bigr)\\;+\\;O(n).\n",
    "$$\n",
    "\n",
    "**Apply Master Theorem**  \n",
    "\n",
    "- $a = 3$, $b = 3$ $\\;\\Rightarrow\\; n^{\\log_b a} = n^{\\log_{3}3} = n.$  \n",
    "- $f(n) = n = \\Theta\\bigl(n^{\\log_b a}\\bigr)$, so this is Case 2.\n",
    "\n",
    "Hence\n",
    "$$\n",
    "T(n) \\;=\\; \\Theta\\bigl(n \\log n\\bigr),\n",
    "$$\n",
    "and in Big-O notation:\n",
    "$$\n",
    "T(n) = O\\bigl(n \\log n\\bigr).\n",
    "$$"
   ]
  },
  {
   "cell_type": "markdown",
   "id": "d6259780",
   "metadata": {},
   "source": [
    "## Q8\n",
    "\n",
    "**Worst-case cost:**  \n",
    "- When the array is full, `append` calls `_resize`, which copies all $n$ elements in $O(n)$ time.  \n",
    "- So a single `append` can take $O(n)$ in the worst case.\n",
    "\n",
    "**Amortized cost over $m$ appends:**  \n",
    "- Most `append` calls do a single assignment in $O(1)$.  \n",
    "- Whenever capacity is reached, it doubles (1 → 2 → 4 → …), and copies existing elements.  \n",
    "- Total number of copies across all resizes is  \n",
    "  $$\n",
    "    1 + 2 + 4 + 8 + \\cdots + 2^{\\lfloor \\log_2 m\\rfloor} \\;\\le\\; 2m \\;=\\; O(m).\n",
    "  $$  \n",
    "- Adding $m$ constant-time appends gives total work $O(m) + m\\cdot O(1) = O(m)$.  \n",
    "- Amortized cost per append = $O(m)/m = O(1)$.\n",
    "\n",
    "Therefore, while a single `append` operation can take $O(n)$ time in the worst case, the amortized cost per `append` over a sequence of $m$ operations is $O(1)$."
   ]
  }
 ],
 "metadata": {
  "kernelspec": {
   "display_name": ".conda",
   "language": "python",
   "name": "python3"
  },
  "language_info": {
   "codemirror_mode": {
    "name": "ipython",
    "version": 3
   },
   "file_extension": ".py",
   "mimetype": "text/x-python",
   "name": "python",
   "nbconvert_exporter": "python",
   "pygments_lexer": "ipython3",
   "version": "3.11.8"
  }
 },
 "nbformat": 4,
 "nbformat_minor": 5
}
