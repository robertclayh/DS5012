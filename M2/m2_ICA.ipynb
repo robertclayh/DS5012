{
 "cells": [
  {
   "cell_type": "markdown",
   "id": "83726369",
   "metadata": {},
   "source": [
    "## Module 2\n",
    "### ICA: Searches\n",
    "Robert Clay Harris: jbm2rt"
   ]
  },
  {
   "cell_type": "markdown",
   "id": "269d97a0",
   "metadata": {},
   "source": [
    "#### ICA 1: Linear Search"
   ]
  },
  {
   "cell_type": "code",
   "execution_count": 3,
   "id": "142c0d99",
   "metadata": {},
   "outputs": [
    {
     "data": {
      "text/plain": [
       "3"
      ]
     },
     "execution_count": 3,
     "metadata": {},
     "output_type": "execute_result"
    }
   ],
   "source": [
    "arr = [23, 1, 45, 34, 17]\n",
    "tgt = 34\n",
    "\n",
    "def search_linear(arr, tgt):\n",
    "    n = len(arr)\n",
    "    for i in range(n):\n",
    "        if arr[i] == tgt:\n",
    "            return i\n",
    "    return -1\n",
    "\n",
    "search_linear(arr,tgt)"
   ]
  },
  {
   "cell_type": "markdown",
   "id": "8ff139d2",
   "metadata": {},
   "source": [
    "```\n",
    "pros:\n",
    "    - simplicity\n",
    "cons:\n",
    "    - no concept of efficiency\n",
    "time complexity: best O(1), worst O(n)\n",
    "when to use?\n",
    "    - when the array is small in size and the burden of computation is small\n",
    "    - when you don't need to search often or with complexity\n",
    "```"
   ]
  },
  {
   "cell_type": "markdown",
   "id": "bbf58a0f",
   "metadata": {},
   "source": [
    "#### ICA 2: Binary Search"
   ]
  },
  {
   "cell_type": "code",
   "execution_count": 15,
   "id": "e012f0bf",
   "metadata": {},
   "outputs": [
    {
     "data": {
      "text/plain": [
       "6"
      ]
     },
     "execution_count": 15,
     "metadata": {},
     "output_type": "execute_result"
    }
   ],
   "source": [
    "arr = [1, 4, 7, 9, 15, 24, 30]\n",
    "tgt = 30\n",
    "\n",
    "def search_binary(arr, tgt):\n",
    "    # st, end <- arr[0], arr[-1]\n",
    "    # compute mid between start and end\n",
    "    # arr[mid] == tgt -> return mid\n",
    "    # arr[mid] < tgt -> end = mid\n",
    "    # arr[mid] > tgt -> st = mid\n",
    "\n",
    "    n = len(arr)\n",
    "    st, end = 0, n-1\n",
    "    if arr[st]  == tgt: return st\n",
    "    if arr[end] == tgt: return end\n",
    "    while True:\n",
    "        mid = ((end - st) // 2) + st\n",
    "\n",
    "        if mid == end or mid == st:\n",
    "            return -1\n",
    "\n",
    "        if arr[mid] == tgt: return mid\n",
    "        elif arr[mid] >= tgt: end = mid\n",
    "        else:\n",
    "            st = mid\n",
    "\n",
    "search_binary(arr, tgt)"
   ]
  },
  {
   "cell_type": "markdown",
   "id": "8b9b5dcd",
   "metadata": {
    "vscode": {
     "languageId": "raw"
    }
   },
   "source": [
    "```\n",
    "pros:\n",
    "    - much faster than linear search\n",
    "cons:\n",
    "    - requires sorted array\n",
    "    - more complex to implement than linear search\n",
    "time complexity: best O(1), worst O(log n)\n",
    "when to use?\n",
    "    - when the array is large and sorted\n",
    "    - when you need to search often or with complexity\n",
    "```"
   ]
  },
  {
   "cell_type": "markdown",
   "id": "0573e7f4",
   "metadata": {},
   "source": [
    "#### ICA 3: Sort Selection"
   ]
  },
  {
   "cell_type": "code",
   "execution_count": null,
   "id": "3d262390",
   "metadata": {},
   "outputs": [
    {
     "data": {
      "text/plain": [
       "[1, 17, 23, 34, 45]"
      ]
     },
     "execution_count": 17,
     "metadata": {},
     "output_type": "execute_result"
    }
   ],
   "source": [
    "arr = [34, 17, 23, 1, 45]\n",
    "\n",
    "def sort_selection(arr):\n",
    "    # i: 0~n-1\n",
    "        # j: i ~ n\n",
    "\n",
    "    n = len(arr)\n",
    "    for i in range(0, n-1):\n",
    "        min_val = arr[i]\n",
    "        min_idx = i\n",
    "        for j in range(i, n):\n",
    "            if arr[j] < min_val:\n",
    "                min_val = arr[j]\n",
    "                min_idx = j\n",
    "\n",
    "        temp = arr[i]\n",
    "        arr[i] = min_val\n",
    "        arr[min_idx] = temp\n",
    "    return arr\n",
    "\n",
    "sort_selection(arr)\n",
    "    "
   ]
  },
  {
   "cell_type": "markdown",
   "id": "537d3e6d",
   "metadata": {
    "vscode": {
     "languageId": "raw"
    }
   },
   "source": [
    "```\n",
    "pros:\n",
    "    - easy to implement\n",
    "    - no additional data structures needed\n",
    "    - works well for small datasets\n",
    "cons:\n",
    "    - not efficient for large datasets\n",
    "    - can be slow for large arrays\n",
    "time complexity: best O(n^2), worst O(n^2)\n",
    "when to use?\n",
    "    - when the array is small and unsorted\n",
    "    - when you need to search for an element in a small dataset\n",
    "```"
   ]
  },
  {
   "cell_type": "markdown",
   "id": "d37292da",
   "metadata": {},
   "source": [
    "#### ICA 4: Quick Sort"
   ]
  },
  {
   "cell_type": "code",
   "execution_count": 22,
   "id": "42c0b55d",
   "metadata": {},
   "outputs": [
    {
     "data": {
      "text/plain": [
       "[1, 3, 4, 5, 6, 7, 12, 15]"
      ]
     },
     "execution_count": 22,
     "metadata": {},
     "output_type": "execute_result"
    }
   ],
   "source": [
    "arr = [12, 4, 5, 6, 7, 3, 1, 15]\n",
    "\n",
    "def sort_quick(arr):\n",
    "    if len(arr) <= 1:\n",
    "        return arr\n",
    "    pivot_idx = len(arr) // 2\n",
    "\n",
    "    left_arr, right_arr = divide(arr, pivot_idx)\n",
    "    sorted_left = sort_quick(left_arr)\n",
    "    sorted_right = sort_quick(right_arr)\n",
    "\n",
    "    return sorted_left + [arr[pivot_idx]] + sorted_right\n",
    "\n",
    "def divide(arr, pivot_idx):\n",
    "    arr_left = []\n",
    "    arr_right = []\n",
    "    n = len(arr)\n",
    "    for i in range(n):\n",
    "        if i == pivot_idx:\n",
    "            continue\n",
    "        if arr[i] <= arr[pivot_idx]:\n",
    "            arr_left.append(arr[i])\n",
    "        else:\n",
    "            arr_right.append(arr[i])\n",
    "    return arr_left, arr_right\n",
    "\n",
    "sort_quick(arr)"
   ]
  },
  {
   "cell_type": "markdown",
   "id": "912480d8",
   "metadata": {
    "vscode": {
     "languageId": "raw"
    }
   },
   "source": [
    "```\n",
    "pros:\n",
    "    - easy to implement\n",
    "    - no additional data structures needed\n",
    "cons:\n",
    "time complexity: best O(n log n), worst O(n^2), avg O(n log n)\n",
    "when to use?\n",
    "    - if your dataset is large and unsorted\n",
    "    - when you need to sort the array for further operations\n",
    "```"
   ]
  },
  {
   "cell_type": "markdown",
   "id": "4113f0e8",
   "metadata": {},
   "source": [
    "#### ICA 5: Shell Sort"
   ]
  },
  {
   "cell_type": "markdown",
   "id": "beb7ba74",
   "metadata": {
    "vscode": {
     "languageId": "raw"
    }
   },
   "source": [
    "description: \\\n",
    "\t- Pick a sequence of gaps (for example, n/2, n/4, …, 1) \\\n",
    "\t- For each gap, run an insertion pass on the array, comparing and swapping elements that are the defined gap apart \\\n",
    "\t- Cut the gap in half (or to the next sequence value) and repeat until the gap is 1 \\\n",
    "\t- Final pass with gap = 1 finishes the sort\n",
    "\n",
    "pros: \\\n",
    "\t- Large gap passes move elements long distances early so by the time the final pass runs the array is already mostly sorted and requires fewer shifts\n",
    "\n",
    "cons: \\\n",
    "\t- Performance depends on the chosen gap sequence \\\n",
    "    - Finding an optimal sequence can be complex and may not yield the best results for all datasets\n",
    "\n",
    "time complexity: \\\n",
    "\t- Worst case scenario: $O(n^2)$ \\\n",
    "    - Best case scenario: $O(n \\log n)$ \\\n",
    "\t- Each gap pass n elements $O(n)$, and there are about $O(\\log n)$  passes depending on gaps\n",
    "\n",
    "when to use? \\\n",
    "\t•\tWhen working with moderate-sized or partially sorted data and need in-place method faster than n^2 \\\n",
    "\t•\tUseful when memory is limiting factor"
   ]
  }
 ],
 "metadata": {
  "kernelspec": {
   "display_name": ".conda",
   "language": "python",
   "name": "python3"
  },
  "language_info": {
   "codemirror_mode": {
    "name": "ipython",
    "version": 3
   },
   "file_extension": ".py",
   "mimetype": "text/x-python",
   "name": "python",
   "nbconvert_exporter": "python",
   "pygments_lexer": "ipython3",
   "version": "3.11.8"
  }
 },
 "nbformat": 4,
 "nbformat_minor": 5
}
