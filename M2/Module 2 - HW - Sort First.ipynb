{
 "cells": [
  {
   "cell_type": "markdown",
   "metadata": {
    "id": "YgaqXBYJDx0D"
   },
   "source": [
    "# 5012 HW #2. Improve code Efficiency: Sort First!\n",
    "\n",
    "## Robert Clay Harris: jbm2rt\n",
    "\n",
    "## Scenario. \n",
    "\n",
    "In a two class, classification problem, it is common to use a classifier that outputs confidences (rather than simply class labels). A good example of this is a Support Vector Machine. A pro for using such a classifier is that you gain more information -- specifically the confidence in the classification result. A con is that in order to make a final classification decision, a threshold value must be determined. For example, if a threshold of 0.75 is chosen, the class label 1 would be assigned for confidences greater than 0.75 and for confidences less than 0.75 a class label of 0 would be assigned. However, this begs the question: how is the threshold chosen?\n",
    "\n",
    "Many data scientists will choose a threshold based on the experimental results and/or operational constraints. In this code example, we assume that we have confidences and true labels for a large data set. To determine a good threshold we will compute the true positive rates (TPRs) and false positive rates (FPRs) at all relevant thresholds. The relevant thresholds are considered those that would change the TPRs and FPRs. \n",
    "\n",
    "In the code below, a function is defined to compute the TPR and FPR at all relevant thresholds. However, the code is not very efficient and can be improved. (Note there are tips and hints found in the comments.) \n",
    "\n",
    "Your task is the following:\n",
    "\n",
    "## Question 1\n",
    "**40 POINTS**  \n",
    "Assess the time complexity of the method computeAllTPRs(...). Provide a line-by-line assessment in comments identifying the proportional number of steps (bounding notation is sufficient) per line: eg, O(1), O(log n), O(n), etc. Also, derive a time step function T(n) for the entire method (where n is the size of input true_label).\n",
    "\n",
    "## Question 2\n",
    "**30 POINTS**  \n",
    "Implement a new function computeAllTPRs_improved(...) which performs the same task as computeAllTPRs but has a significantly reduced time complexity. Also provide a line-by-line assessment in comments identifying the proportional number of steps per line, and derive a time step function T(n) for the entire method (where n is the size of input true_label).\n",
    "\n",
    "## Question 3\n",
    "**30 POINTS**  \n",
    "Compare the theoretical time complexities of both methods and predict which is more efficient. Next, test your prediction by timing both methods on sample inputs of varying sizes. Create a plot of inputSize vs runtime (as done in similar class examples).  \n",
    "\n",
    "**NOTE: Do not include runtimes for graphing**\n",
    "\n",
    "**TOTAL POINTS: 100**\n",
    "\n",
    "---"
   ]
  },
  {
   "cell_type": "code",
   "execution_count": 11,
   "metadata": {
    "id": "tQs8b3ccEskN"
   },
   "outputs": [],
   "source": [
    "import matplotlib.pyplot as plt\n",
    "import random\n",
    "from copy import deepcopy\n",
    "from numpy import argmax"
   ]
  },
  {
   "cell_type": "markdown",
   "metadata": {
    "id": "l4t6Gd-XNWdr"
   },
   "source": [
    "Answer Question #1 in the comments of the code chunk below. "
   ]
  },
  {
   "cell_type": "code",
   "execution_count": null,
   "metadata": {
    "id": "IFu90tkjEORa"
   },
   "outputs": [],
   "source": [
    "    def computeAllTPRs(true_label, confs):\n",
    "        '''\n",
    "\n",
    "        inputs:\n",
    "         - true_label: list of labels, assumed to be 0 or 1 (a two class problem)\n",
    "         - confs: list of confidences\n",
    "\n",
    "        This method computes the True Positive Rate (TPRs) and FPRs for all relevant\n",
    "        thresholds given true_label and confs. Relevant thresholds are considered\n",
    "        all different values found in confs.\n",
    "        '''\n",
    "\n",
    "        # Define / initialize  variables\n",
    "        sentinelValue = -1 # used to replace max value found thus far   # O(1)\n",
    "        totalPositives = sum(true_label)                                # O(n)\n",
    "        totalNegatives = len(true_label) - totalPositives               # O(1)\n",
    "        #print(true_label)\n",
    "        truePositives = 0                                               # O(1)\n",
    "        falsePositives = 0                                              # O(1)\n",
    "        # Hint: Consider Memory Management\n",
    "        truePositiveRate = []                                           # O(1)\n",
    "        falsePositiveRate = []                                          # O(1)\n",
    "\n",
    "        #Hint: Although not explicitly clear, the loop structure below is an \n",
    "            #embeded loop ie, O(n^2) ... do you see why??\n",
    "        #Hint: If you sort the confidences first you can improve the iteration scheme.\n",
    "        \n",
    "        # Iterate over all relevant thresholds. Compute TPR and FPR for each and \n",
    "        # append to truePositiveRate , falsePositiveRate lists. \n",
    "\n",
    "        for i in range(len(confs)):                 # n iterations\n",
    "          maxVal = max(confs)                       #   O(n)\n",
    "          argMax = argmax(confs)                    #   O(n)\n",
    "          confs[argMax] = sentinelValue             #   O(1)\n",
    "          #print(argMax)\n",
    "          if true_label[argMax]==1:                 #   O(1)\n",
    "            truePositives += 1                      #     O(1)\n",
    "          else:\n",
    "            falsePositives += 1                     #     O(1)\n",
    "\n",
    "          truePositiveRate.append(truePositives/totalPositives)   #   O(1)\n",
    "          falsePositiveRate.append(falsePositives/totalNegatives) #   O(1)\n",
    "          #print(truePositiveRate)\n",
    "\n",
    "        # Plot FPR vs TPR for all possible thresholds \n",
    "        # plt.plot(falsePositiveRate,truePositiveRate, label ='class' + str(i) + ' to all') \n",
    "        # # O(n)\n",
    "        # plt.legend()                                   # O(1)\n",
    "        # plt.xlabel('False Positive Rate')              # O(1)\n",
    "        # plt.ylabel('True Positive Rate')               # O(1)\n",
    "        # plt.show()                                     # O(1)\n",
    "\n",
    "# Total time T(n):\n",
    "# = O(n)        for sum(true_label)\n",
    "# + O(n) * (O(n) + O(n) + O(1))  for each loop: max + argmax -> O(n) per iteration\n",
    "# + O(n)        for plot\n",
    "# = O(n) + O(n) * (O(n) + O(n) + O(1)) + O(n)\n",
    "# = O(n^2) + O(n) + O(1)\n",
    "# = O(n^2)\n",
    "# Total time T(n) = O(n^2)"
   ]
  },
  {
   "cell_type": "code",
   "execution_count": 20,
   "metadata": {},
   "outputs": [],
   "source": [
    "def testComputeAllTPRs(numSamples):\n",
    "\n",
    "  confList = []\n",
    "  labels = []\n",
    "  maxVal = 10000\n",
    "  #numSamples = 10000\n",
    "  for i in range(0,numSamples):\n",
    "    n = random.randint(1,maxVal)\n",
    "    confList.append(n/maxVal)\n",
    "    if n/maxVal > .5: \n",
    "      lab = 1 \n",
    "    else: \n",
    "      lab = 0\n",
    "    labels.append(lab)\n",
    "  #print(labels)\n",
    "  computeAllTPRs(labels, deepcopy(confList))  # Why a deepcopy here?"
   ]
  },
  {
   "cell_type": "markdown",
   "metadata": {
    "id": "J0aNsuFFMzLt"
   },
   "source": [
    "Below, provide your implementation for Question #2."
   ]
  },
  {
   "cell_type": "code",
   "execution_count": null,
   "metadata": {
    "id": "I4SoYMYBMyzA"
   },
   "outputs": [],
   "source": [
    "def computeAllTPRs_improved(true_label, confs):\n",
    "    n = len(confs)                                    # O(1)\n",
    "    totalPositives = sum(true_label)                  # O(n)\n",
    "    totalNegatives = n - totalPositives               # O(1)\n",
    "\n",
    "    pairs = list(zip(confs, true_label))              # O(n)\n",
    "    pairs.sort(key=lambda x: x[0], reverse=True)      # O(n log n)\n",
    "\n",
    "    truePositives = 0                                 # O(1)\n",
    "    falsePositives = 0                                # O(1)\n",
    "    truePositiveRate = []                             # O(1)\n",
    "    falsePositiveRate = []                            # O(1)\n",
    "\n",
    "    for conf, lbl in pairs:                           # n iterations\n",
    "        if lbl == 1:                                  #     O(1)\n",
    "            truePositives += 1                        #         O(1)\n",
    "        else:\n",
    "            falsePositives += 1                       #         O(1)\n",
    "        truePositiveRate.append(                      #     O(1)\n",
    "            truePositives/totalPositives\n",
    "        )\n",
    "        falsePositiveRate.append(                     #     O(1)\n",
    "            falsePositives/totalNegatives\n",
    "        )\n",
    "\n",
    "    # plt.plot(falsePositiveRate, truePositiveRate, label ='class' + str(i) + ' to all')  \n",
    "    # # O(n)\n",
    "    # plt.legend()                                                    # O(1)\n",
    "    # plt.xlabel('False Positive Rate')                               # O(1)\n",
    "    # plt.ylabel('True Positive Rate')                                # O(1)\n",
    "    # plt.show()                                                      # O(1)\n",
    "\n",
    "\n",
    "# Time complexity T(n):\n",
    "# = O(n) + O(1)        for sum(true_label)\n",
    "# + O(n)        for zip(confs, true_label)\n",
    "# + O(n log n)  for sorting\n",
    "# + O(n) + O(1)        for single pass + appends\n",
    "# + O(n) + O(1)        for plot\n",
    "# = O(n log n) + O(n) + O(1)\n",
    "# = O(n log n)\n",
    "# Total time T(n) = O(n log n)\n"
   ]
  },
  {
   "cell_type": "markdown",
   "metadata": {
    "id": "lP72j3GqM6AH"
   },
   "source": [
    "Question #3. Below, provide your code which records and plots the runtime for the original and improved methods. "
   ]
  },
  {
   "cell_type": "code",
   "execution_count": null,
   "metadata": {},
   "outputs": [
    {
     "data": {
      "image/png": "[encoded data removed]",
      "text/plain": [
       "<Figure size 640x480 with 1 Axes>"
      ]
     },
     "metadata": {},
     "output_type": "display_data"
    }
   ],
   "source": [
    "import time\n",
    "\n",
    "def generateTestData(numSamples):\n",
    "    confList = []\n",
    "    labels = []\n",
    "    maxVal = 10000\n",
    "    for _ in range(numSamples):\n",
    "        n = random.randint(1, maxVal)\n",
    "        c = n / maxVal\n",
    "        confList.append(c)\n",
    "        labels.append(1 if c > 0.5 else 0)\n",
    "    return labels, confList\n",
    "\n",
    "sizes = [100, 500, 1000, 2000, 4000, 8000, 16000, 32000]\n",
    "orig_times = []\n",
    "impr_times = []\n",
    "\n",
    "for n in sizes:\n",
    "    labels, confs = generateTestData(n)\n",
    "\n",
    "    t0 = time.perf_counter()\n",
    "    computeAllTPRs(labels, deepcopy(confs))\n",
    "    orig_times.append(time.perf_counter() - t0)\n",
    "\n",
    "    t0 = time.perf_counter()\n",
    "    computeAllTPRs_improved(labels, confs)\n",
    "    impr_times.append(time.perf_counter() - t0)\n",
    "\n",
    "plt.plot(sizes, orig_times, label='Original O(n^2)')\n",
    "plt.plot(sizes, impr_times, label='Improved O(n log n)')\n",
    "plt.xlabel('Input size (n)')\n",
    "plt.ylabel('Runtime (seconds)')\n",
    "plt.title('Original vs. Improved computeAllTPRs')\n",
    "plt.legend()\n",
    "plt.show()"
   ]
  }
 ],
 "metadata": {
  "colab": {
   "collapsed_sections": [],
   "name": "5012_HW2_sortFirst.ipynb",
   "provenance": []
  },
  "kernelspec": {
   "display_name": ".conda",
   "language": "python",
   "name": "python3"
  },
  "language_info": {
   "codemirror_mode": {
    "name": "ipython",
    "version": 3
   },
   "file_extension": ".py",
   "mimetype": "text/x-python",
   "name": "python",
   "nbconvert_exporter": "python",
   "pygments_lexer": "ipython3",
   "version": "3.11.8"
  }
 },
 "nbformat": 4,
 "nbformat_minor": 4
}
